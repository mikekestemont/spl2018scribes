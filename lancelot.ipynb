{
 "cells": [
  {
   "cell_type": "markdown",
   "metadata": {},
   "source": [
    "# Lancelot compilation"
   ]
  },
  {
   "cell_type": "markdown",
   "metadata": {},
   "source": [
    "## Setup"
   ]
  },
  {
   "cell_type": "markdown",
   "metadata": {},
   "source": [
    "We set up our notebook environment, so that graphs are displayed nicely."
   ]
  },
  {
   "cell_type": "code",
   "execution_count": 1,
   "metadata": {},
   "outputs": [],
   "source": [
    "%matplotlib inline\n",
    "import matplotlib.pyplot as plt\n",
    "plt.style.use('seaborn-deep')\n",
    "\n",
    "import seaborn as sb\n",
    "from matplotlib import rcParams\n",
    "rcParams['font.family'] = 'Arial'\n",
    "\n",
    "import numpy as np"
   ]
  },
  {
   "cell_type": "markdown",
   "metadata": {},
   "source": [
    "## Preprocessing"
   ]
  },
  {
   "cell_type": "markdown",
   "metadata": {},
   "source": [
    "We create a function that we can use to extract lines from the XML-formatted text under the `data` directory (mostly *Cd-rom Middelnederlands* version, courtesy of the [Dutch Language Institute](http://www.inl.nl/)). We ignore lines that have text loss (cf. the `damage` tag) and remove all non-alphabetic characters."
   ]
  },
  {
   "cell_type": "code",
   "execution_count": 2,
   "metadata": {},
   "outputs": [],
   "source": [
    "from lxml import etree\n",
    "\n",
    "def preprocess_file(fn, target_scribes):\n",
    "\n",
    "    with open(fn, 'r') as f:\n",
    "        xml_text = f.read()\n",
    "\n",
    "    root = etree.fromstring(xml_text)\n",
    "\n",
    "    scribes, current_scribe = {}, None\n",
    "\n",
    "    for line in root.findall('.//l'):\n",
    "        for child in list(line):\n",
    "            if child.tag == 'scribe':\n",
    "                current_scribe = child.get('id')\n",
    "                if current_scribe not in scribes and \\\n",
    "                  current_scribe in target_scribes:\n",
    "                    scribes[current_scribe] = []\n",
    "\n",
    "        if current_scribe and current_scribe in target_scribes:\n",
    "\n",
    "            # ignore lines with a damage tag:\n",
    "            damaged = False\n",
    "            for child in line:\n",
    "                if child.tag == 'damage':\n",
    "                    print(' '.join([t.strip() for t in line.itertext()]))\n",
    "                    damaged = True\n",
    "                    break\n",
    "\n",
    "            if not damaged:\n",
    "                line_text = ' '.join([t.strip() for t in line.itertext()])\n",
    "                line_text = ''.join([c for c in line_text if c.isalpha() or c.isspace()])\n",
    "\n",
    "                scribes[current_scribe].append(line_text.strip().lower())\n",
    "\n",
    "    return scribes"
   ]
  },
  {
   "cell_type": "markdown",
   "metadata": {},
   "source": [
    "We extract the lines from all scribes in the *Lanceloet* part (`A, B, C, D, E`), but we also include the *Perchevael*(written entirely by `B`), to bring B's share up to the level of the other scribes. Note that A, nevertheless, still severely outnumbers the other copyists."
   ]
  },
  {
   "cell_type": "code",
   "execution_count": 3,
   "metadata": {},
   "outputs": [
    {
     "name": "stdout",
     "output_type": "stream",
     "text": [
      "A -> 17475 lines\n",
      "B -> 7085 lines\n",
      "C -> 7080 lines\n",
      "D -> 6639 lines\n",
      "E -> 4264 lines\n"
     ]
    }
   ],
   "source": [
    "scribes = preprocess_file(fn='../data/compilation/01Lanc.xml',\n",
    "                          target_scribes=['A', 'B', 'C', 'D', 'E'])\n",
    "\n",
    "scribes['B'].extend(preprocess_file(fn='../data/compilation/02Perc.xml',\n",
    "                          target_scribes=['B'])['B'])\n",
    "\n",
    "for scribe, lines in scribes.items():\n",
    "    scribes[scribe] = tuple(lines)\n",
    "\n",
    "for scribe, lines in scribes.items():\n",
    "    print(f'{scribe} -> {len(lines)} lines')"
   ]
  },
  {
   "cell_type": "code",
   "execution_count": 4,
   "metadata": {},
   "outputs": [
    {
     "data": {
      "image/png": "[encoded data removed]",
      "text/plain": [
       "<matplotlib.figure.Figure at 0x109f80dd8>"
      ]
     },
     "metadata": {},
     "output_type": "display_data"
    }
   ],
   "source": [
    "import pandas as pd\n",
    "df = pd.DataFrame()\n",
    "df['kopiist'] = sorted(scribes.keys())\n",
    "df['versaantal'] = [len(scribes[s]) for s in sorted(scribes.keys())]\n",
    "df.plot(kind='bar', x='kopiist', y='versaantal', sort_columns=True)\n",
    "plt.title('Versaantallen in Lancelotcompilatie')\n",
    "plt.savefig('../figures/fig1a.pdf')"
   ]
  },
  {
   "cell_type": "markdown",
   "metadata": {},
   "source": [
    "We now build a function that can segment the data per scribe into evenly sized samples or segments (expressed in number of lines, rather than number of words)."
   ]
  },
  {
   "cell_type": "code",
   "execution_count": 5,
   "metadata": {},
   "outputs": [],
   "source": [
    "def segment(scribes, segment_length=10,\n",
    "            max_nb_segments=None, shuffle=False):\n",
    "    \n",
    "    texts, labels = [], []\n",
    "\n",
    "    if segment_length:\n",
    "        scribe_segment_cnt = {scribe:0 for scribe in scribes}\n",
    "\n",
    "        for scribe in sorted(scribes):\n",
    "\n",
    "            lines = scribes[scribe]\n",
    "\n",
    "            if shuffle:\n",
    "                random.shuffle(lines)\n",
    "\n",
    "            start_idx, end_idx = 0, segment_length\n",
    "\n",
    "            while end_idx <= len(lines):\n",
    "                if max_nb_segments and scribe_segment_cnt[scribe] < max_nb_segments:\n",
    "                    break\n",
    "\n",
    "                t = ' '.join(lines[start_idx : end_idx])\n",
    "                texts.append(t)\n",
    "                labels.append(scribe)\n",
    "\n",
    "                start_idx += segment_length\n",
    "                end_idx += segment_length\n",
    "                scribe_segment_cnt[scribe] += 1\n",
    "    else:\n",
    "        for scribe, lines in sorted(scribes.items()):\n",
    "            texts.append(' '.join(lines))\n",
    "            labels.append(scribe)\n",
    "\n",
    "    return texts, labels"
   ]
  },
  {
   "cell_type": "markdown",
   "metadata": {},
   "source": [
    "If we apply this function, we see of course that the class imbalance between the various scribes is mirrored in the segmented version. The number of samples ranges from 10 (`E`) to 43 (`A`). Such a skewedness, however, is not unrealistic in the context of real-world scholarship."
   ]
  },
  {
   "cell_type": "code",
   "execution_count": 6,
   "metadata": {},
   "outputs": [
    {
     "name": "stdout",
     "output_type": "stream",
     "text": [
      "Counter({'A': 43, 'B': 17, 'C': 17, 'D': 16, 'E': 10})\n"
     ]
    }
   ],
   "source": [
    "texts, labels = segment(scribes, segment_length=400,\n",
    "                        max_nb_segments=None, shuffle=False)\n",
    "\n",
    "from collections import Counter\n",
    "print(Counter(labels))"
   ]
  },
  {
   "cell_type": "markdown",
   "metadata": {},
   "source": [
    "## Leave-one-out experiment"
   ]
  },
  {
   "cell_type": "markdown",
   "metadata": {},
   "source": [
    "We start with a simple leave-one-out experiment: each time we set aside a test sample as a held-out instance and train the classifier on the training items. Next, we have the trained system perform a scribal attribution on the held-out test instance. We keep track of these predictions to estimate our classifier's performance after we have iterated over all instances."
   ]
  },
  {
   "cell_type": "markdown",
   "metadata": {},
   "source": [
    "We first set some general hyperparameters (variable names in uppercase):"
   ]
  },
  {
   "cell_type": "code",
   "execution_count": 7,
   "metadata": {},
   "outputs": [],
   "source": [
    "NGRAM_LENGTH = 4\n",
    "SAMPLE_SIZE = 500\n",
    "NUM_SAMPLES = 100\n",
    "NUM_FEATURES = 2000"
   ]
  },
  {
   "cell_type": "markdown",
   "metadata": {},
   "source": [
    "Next, we define a vectorizer (for converting our segements to a numeric frequency table), a scaler (to scale values given their standard eveiation, which is common practice in stylometry), and a nearest-neighbor classifier (to perform the actual attribution task)."
   ]
  },
  {
   "cell_type": "code",
   "execution_count": 8,
   "metadata": {},
   "outputs": [],
   "source": [
    "from sklearn.feature_extraction.text import TfidfVectorizer\n",
    "from sklearn.preprocessing import StandardScaler\n",
    "from sklearn.neighbors import KNeighborsClassifier\n",
    "\n",
    "vectorizer = TfidfVectorizer(max_features=NUM_FEATURES, analyzer='char_wb',\n",
    "                             ngram_range=(NGRAM_LENGTH, NGRAM_LENGTH),\n",
    "                             use_idf=False, norm='l1')\n",
    "scaler = StandardScaler(with_mean=False)\n",
    "clf = KNeighborsClassifier(metric='cosine', n_neighbors=1,\n",
    "                           algorithm='brute', weights='uniform')"
   ]
  },
  {
   "cell_type": "markdown",
   "metadata": {},
   "source": [
    "### Cosine angle"
   ]
  },
  {
   "cell_type": "code",
   "execution_count": 11,
   "metadata": {},
   "outputs": [],
   "source": [
    "# following two blocks with much appreciated help from:\n",
    "# https://stackoverflow.com/questions/25227100/best-way-to-plot-an-angle-between-two-lines-in-matplotlib\n",
    "\n",
    "import math\n",
    "\n",
    "def get_angle_plot(line1, line2, offset = 1, color = None, origin = [0,0], len_x_axis = 1, len_y_axis = 1):\n",
    "\n",
    "    l1xy = line1.get_xydata()\n",
    "\n",
    "    # Angle between line1 and x-axis\n",
    "    slope1 = (l1xy[1][1] - l1xy[0][1]) / float(l1xy[1][0] - l1xy[0][0])\n",
    "    angle1 = abs(math.degrees(math.atan(slope1))) # Taking only the positive angle\n",
    "\n",
    "    l2xy = line2.get_xydata()\n",
    "\n",
    "    # Angle between line2 and x-axis\n",
    "    slope2 = (l2xy[1][1] - l2xy[0][1]) / float(l2xy[1][0] - l2xy[0][0])\n",
    "    angle2 = abs(math.degrees(math.atan(slope2)))\n",
    "\n",
    "    theta1 = min(angle1, angle2)\n",
    "    theta2 = max(angle1, angle2)\n",
    "\n",
    "    angle = theta2 - theta1\n",
    "\n",
    "    if color is None:\n",
    "        color = line1.get_color() # Uses the color of line 1 if color parameter is not passed.\n",
    "\n",
    "    return Arc(origin, len_x_axis*offset, len_y_axis*offset, 0, theta1, theta2, color=color)"
   ]
  },
  {
   "cell_type": "code",
   "execution_count": 12,
   "metadata": {},
   "outputs": [
    {
     "data": {
      "image/png": "[encoded data removed]",
      "text/plain": [
       "<matplotlib.figure.Figure at 0x10b5f5f98>"
      ]
     },
     "metadata": {},
     "output_type": "display_data"
    }
   ],
   "source": [
    "from matplotlib.lines import Line2D\n",
    "from matplotlib.patches import Arc\n",
    "\n",
    "labels = np.array(labels)\n",
    "\n",
    "predictions = []\n",
    "\n",
    "X = scaler.fit_transform(vectorizer.fit_transform(texts).toarray())\n",
    "\n",
    "\n",
    "X = scaler.fit_transform(vectorizer.fit_transform(texts).toarray())\n",
    "\n",
    "ex_A = labels == 'A'\n",
    "ex_C = labels == 'C'\n",
    "\n",
    "soe_idx = vectorizer.get_feature_names().index(' so ')\n",
    "dar_idx = vectorizer.get_feature_names().index(' dar')\n",
    "\n",
    "A = X[ex_A][:, (soe_idx, dar_idx)]\n",
    "C = X[ex_C][:, (soe_idx, dar_idx)]\n",
    "\n",
    "plt.figure(figsize=(10, 10))\n",
    "plt.plot(A[:, 0], A[:, 1], 'o', label='A')\n",
    "plt.plot(C[:, 0], C[:, 1], 'o', label='C')\n",
    "\n",
    "a_min = A[A[:, 0].argmin()]\n",
    "line_1 = Line2D([0.0, a_min[0]], [0.0, a_min[1]], 1, '--') \n",
    "\n",
    "c_min = C[C[:, 1].argmin(), :]\n",
    "line_2 = Line2D([0.0, c_min[0]], [0.0, c_min[1]], 1, '--')\n",
    "\n",
    "a_max = A[A[:, 0].argmax()]\n",
    "line_3 = Line2D([0.0, a_max[0]], [0.0, a_max[1]], 1, '--')    \n",
    "\n",
    "c_max = C[C[:, 1].argmax(), :]\n",
    "line_4 = Line2D([0.0, c_max[0]], [0.0, c_max[1]], 1, '--')    \n",
    "\n",
    "ax = plt.gca()\n",
    "ax.add_line(line_1)\n",
    "ax.add_line(line_2)\n",
    "ax.add_line(line_3)\n",
    "ax.add_line(line_4)\n",
    "\n",
    "angle_plot = get_angle_plot(line_1, line_2, 1)\n",
    "ax.add_patch(angle_plot) # To display the angle arc\n",
    "\n",
    "angle_plot = get_angle_plot(line_1, line_3, 1.6)\n",
    "ax.add_patch(angle_plot) # To display the angle arc\n",
    "\n",
    "angle_plot = get_angle_plot(line_2, line_4, 3)\n",
    "ax.add_patch(angle_plot) # To display the angle arc\n",
    "\n",
    "\n",
    "plt.xlabel('f(_so_)', size= 14)\n",
    "plt.ylabel('f(dar_)', size=14)\n",
    "plt.legend(prop={'size': 20})\n",
    "plt.tight_layout()\n",
    "plt.title('Illustratie cosinus afstand', size=24)\n",
    "plt.tight_layout()\n",
    "plt.savefig('../figures/fig2.pdf')"
   ]
  },
  {
   "cell_type": "markdown",
   "metadata": {},
   "source": [
    "We are now ready to do the leave-one-out experiment:"
   ]
  },
  {
   "cell_type": "code",
   "execution_count": 13,
   "metadata": {},
   "outputs": [
    {
     "name": "stdout",
     "output_type": "stream",
     "text": [
      "A -> A | A -> A | A -> A | A -> A | A -> A | A -> A | A -> A | A -> A | A -> A | A -> A | A -> A | A -> A | A -> A | A -> A | A -> A | A -> A | A -> A | A -> A | A -> A | A -> A | A -> A | A -> A | A -> A | A -> A | A -> A | A -> A | A -> A | A -> A | A -> A | A -> A | A -> A | A -> A | A -> A | A -> A | A -> A | A -> A | A -> A | A -> A | A -> A | A -> A | A -> A | A -> A | A -> A | B -> B | B -> B | B -> B | B -> B | B -> B | B -> B | B -> B | B -> B | B -> B | B -> B | B -> B | B -> B | B -> B | B -> B | B -> B | B -> B | B -> B | C -> C | C -> C | C -> C | C -> C | C -> C | C -> C | C -> C | C -> C | C -> C | C -> C | C -> C | C -> C | C -> C | C -> C | C -> C | C -> C | C -> C | D -> D | D -> D | D -> D | D -> D | D -> D | D -> D | D -> D | D -> D | D -> D | D -> D | D -> D | D -> D | D -> D | D -> D | D -> D | D -> D | E -> E | E -> E | E -> E | E -> E | E -> E | E -> E | E -> E | E -> E | E -> E | E -> E | "
     ]
    }
   ],
   "source": [
    "from sklearn.model_selection import LeaveOneOut\n",
    "loo = LeaveOneOut()\n",
    "\n",
    "for train, test in loo.split(X):\n",
    "    # separate the test item from the training items:\n",
    "    train_X, test_X = X[train, :], X[test, :]\n",
    "    train_y, test_y = labels[train], labels[test]\n",
    "    \n",
    "    # fit and predict:\n",
    "    clf.fit(train_X, train_y)\n",
    "    pred = clf.predict(test_X)[0]\n",
    "    print(f'{test_y[0]} -> {pred}', end=' | ')\n",
    "        \n",
    "    # collect the results:\n",
    "    predictions.append(pred)"
   ]
  },
  {
   "cell_type": "markdown",
   "metadata": {},
   "source": [
    "The output of the previous code block shows that we obtain a good accuracy. We can measure this using the accuracy score:"
   ]
  },
  {
   "cell_type": "code",
   "execution_count": 14,
   "metadata": {},
   "outputs": [
    {
     "name": "stdout",
     "output_type": "stream",
     "text": [
      "leave-one-out accuracy score: 1.0\n"
     ]
    }
   ],
   "source": [
    "from sklearn.metrics import accuracy_score\n",
    "acc = accuracy_score(labels, predictions)\n",
    "print('leave-one-out accuracy score:', acc)"
   ]
  },
  {
   "cell_type": "markdown",
   "metadata": {},
   "source": [
    "Plotting the results as a so-called confusion matrix is equally insightful. For this, we define an auxiliary function that can take of the plotting:"
   ]
  },
  {
   "cell_type": "code",
   "execution_count": 15,
   "metadata": {},
   "outputs": [
    {
     "data": {
      "image/png": "[encoded data removed]",
      "text/plain": [
       "<matplotlib.figure.Figure at 0x1a1d794e48>"
      ]
     },
     "metadata": {},
     "output_type": "display_data"
    }
   ],
   "source": [
    "from itertools import product\n",
    "from sklearn.metrics import confusion_matrix\n",
    "\n",
    "def plot_confusion_matrix(gold, silver, title):\n",
    "    plt.clf()\n",
    "    T = gold\n",
    "    P = silver\n",
    "    target_names = sorted(set(T + P))\n",
    "    cm = confusion_matrix(T, P, labels=target_names)\n",
    "    cm_normalized = cm.astype('float') / cm.sum(axis=1)[:, np.newaxis]\n",
    "    np.set_printoptions(precision=2)\n",
    "\n",
    "    plt.imshow(cm, interpolation='nearest', cmap=plt.cm.Blues)\n",
    "    plt.tick_params(labelsize=6)\n",
    "    plt.title('Verwarringstabel')\n",
    "    plt.colorbar()\n",
    "    tick_marks = np.arange(len(target_names))\n",
    "    plt.xticks(tick_marks, target_names, rotation=90)\n",
    "    plt.yticks(tick_marks, target_names)\n",
    "\n",
    "    thresh = cm.max() / 2.\n",
    "    for i, j in product(range(cm.shape[0]), range(cm.shape[1])):\n",
    "        plt.text(j, i, round(cm[i, j], 2),\n",
    "                 horizontalalignment=\"center\",\n",
    "                 color=\"white\" if cm[i, j] > thresh else \"black\")\n",
    "    plt.tight_layout()\n",
    "    plt.ylabel('Correct label')\n",
    "    plt.xlabel('Voorspeld label')\n",
    "    plt.tight_layout()\n",
    "    plt.savefig(title)\n",
    "    plt.show()\n",
    "    plt.close()\n",
    "\n",
    "plot_confusion_matrix(list(labels), predictions, title='../figures/fig3.pdf')"
   ]
  },
  {
   "cell_type": "markdown",
   "metadata": {},
   "source": [
    "## Different parametrizations"
   ]
  },
  {
   "cell_type": "markdown",
   "metadata": {},
   "source": [
    "As you can see, the results from the previous section look great, in the sense that not even a single segment gets wrongly attributed. However, it is important that we do not **overestimate** the importance of this result: apart from scribal characteristics, the attributor can also rely on other, topic-related feature, because the segments come from topically coherent sections of the text. To estimate the actual performance of our classifier we can only rely on the attribution results for the external fragments (see below).\n",
    "\n",
    "Nevertheless, it might be interesting to have a look at the effect of varying certain parameters in our experiments. Here, we shall explore the effect of different vocabulary sizes (starting from very small vocabularies) and the size of the segments. The latter parameter is tricky: larger text blocks are generally easier to attribute, but since our training data is limited, larger segments also imply fewer training data instances. We vary both paramaters between 50 and 3000, with step sizes of 50 (60 values in total). This yields 3600 possible combinations that we can test."
   ]
  },
  {
   "cell_type": "code",
   "execution_count": 16,
   "metadata": {},
   "outputs": [
    {
     "name": "stdout",
     "output_type": "stream",
     "text": [
      "(60, 60)\n"
     ]
    }
   ],
   "source": [
    "values = list(range(50, 3050, 50))\n",
    "accuracies = np.zeros((len(values), len(values)))\n",
    "print(accuracies.shape)"
   ]
  },
  {
   "cell_type": "markdown",
   "metadata": {},
   "source": [
    "Below, we run the actual experiment -- watch out: this cell will take quite a bit of time to execute."
   ]
  },
  {
   "cell_type": "code",
   "execution_count": 18,
   "metadata": {},
   "outputs": [
    {
     "name": "stdout",
     "output_type": "stream",
     "text": [
      "V=50, S=50, A=0.41391509433962265\n",
      "V=50, S=100, A=0.44786729857819907\n",
      "V=50, S=150, A=0.5780141843971631\n"
     ]
    },
    {
     "ename": "KeyboardInterrupt",
     "evalue": "",
     "output_type": "error",
     "traceback": [
      "\u001b[0;31m---------------------------------------------------------------------------\u001b[0m",
      "\u001b[0;31mKeyboardInterrupt\u001b[0m                         Traceback (most recent call last)",
      "\u001b[0;32m<ipython-input-18-b1c27ae6ad0d>\u001b[0m in \u001b[0;36m<module>\u001b[0;34m()\u001b[0m\n\u001b[1;32m     17\u001b[0m         \u001b[0mtrain_y\u001b[0m\u001b[0;34m,\u001b[0m \u001b[0mtest_y\u001b[0m \u001b[0;34m=\u001b[0m \u001b[0mlabels\u001b[0m\u001b[0;34m[\u001b[0m\u001b[0mtrain\u001b[0m\u001b[0;34m]\u001b[0m\u001b[0;34m,\u001b[0m \u001b[0mlabels\u001b[0m\u001b[0;34m[\u001b[0m\u001b[0mtest\u001b[0m\u001b[0;34m]\u001b[0m\u001b[0;34m\u001b[0m\u001b[0m\n\u001b[1;32m     18\u001b[0m \u001b[0;34m\u001b[0m\u001b[0m\n\u001b[0;32m---> 19\u001b[0;31m         \u001b[0mclf\u001b[0m\u001b[0;34m.\u001b[0m\u001b[0mfit\u001b[0m\u001b[0;34m(\u001b[0m\u001b[0mtrain_X\u001b[0m\u001b[0;34m,\u001b[0m \u001b[0mtrain_y\u001b[0m\u001b[0;34m)\u001b[0m\u001b[0;34m\u001b[0m\u001b[0m\n\u001b[0m\u001b[1;32m     20\u001b[0m         \u001b[0mpredictions\u001b[0m\u001b[0;34m.\u001b[0m\u001b[0mappend\u001b[0m\u001b[0;34m(\u001b[0m\u001b[0mclf\u001b[0m\u001b[0;34m.\u001b[0m\u001b[0mpredict\u001b[0m\u001b[0;34m(\u001b[0m\u001b[0mtest_X\u001b[0m\u001b[0;34m)\u001b[0m\u001b[0;34m[\u001b[0m\u001b[0;36m0\u001b[0m\u001b[0;34m]\u001b[0m\u001b[0;34m)\u001b[0m\u001b[0;34m\u001b[0m\u001b[0m\n\u001b[1;32m     21\u001b[0m \u001b[0;34m\u001b[0m\u001b[0m\n",
      "\u001b[0;32m//anaconda/envs/clean36/lib/python3.6/site-packages/sklearn/neighbors/base.py\u001b[0m in \u001b[0;36mfit\u001b[0;34m(self, X, y)\u001b[0m\n\u001b[1;32m    762\u001b[0m \u001b[0;34m\u001b[0m\u001b[0m\n\u001b[1;32m    763\u001b[0m         \"\"\"\n\u001b[0;32m--> 764\u001b[0;31m         \u001b[0;32mif\u001b[0m \u001b[0;32mnot\u001b[0m \u001b[0misinstance\u001b[0m\u001b[0;34m(\u001b[0m\u001b[0mX\u001b[0m\u001b[0;34m,\u001b[0m \u001b[0;34m(\u001b[0m\u001b[0mKDTree\u001b[0m\u001b[0;34m,\u001b[0m \u001b[0mBallTree\u001b[0m\u001b[0;34m)\u001b[0m\u001b[0;34m)\u001b[0m\u001b[0;34m:\u001b[0m\u001b[0;34m\u001b[0m\u001b[0m\n\u001b[0m\u001b[1;32m    765\u001b[0m             \u001b[0mX\u001b[0m\u001b[0;34m,\u001b[0m \u001b[0my\u001b[0m \u001b[0;34m=\u001b[0m \u001b[0mcheck_X_y\u001b[0m\u001b[0;34m(\u001b[0m\u001b[0mX\u001b[0m\u001b[0;34m,\u001b[0m \u001b[0my\u001b[0m\u001b[0;34m,\u001b[0m \u001b[0;34m\"csr\"\u001b[0m\u001b[0;34m,\u001b[0m \u001b[0mmulti_output\u001b[0m\u001b[0;34m=\u001b[0m\u001b[0;32mTrue\u001b[0m\u001b[0;34m)\u001b[0m\u001b[0;34m\u001b[0m\u001b[0m\n\u001b[1;32m    766\u001b[0m \u001b[0;34m\u001b[0m\u001b[0m\n",
      "\u001b[0;31mKeyboardInterrupt\u001b[0m: "
     ]
    }
   ],
   "source": [
    "for i, j in product(range(len(values)), repeat=2):\n",
    "    feat, segm = values[i], values[j]\n",
    "    texts, labels = segment(scribes, segment_length=segm,\n",
    "                        max_nb_segments=None, shuffle=False)\n",
    "    \n",
    "    vectorizer = TfidfVectorizer(max_features=feat, analyzer='char_wb',\n",
    "                             ngram_range=(NGRAM_LENGTH, NGRAM_LENGTH),\n",
    "                             use_idf=False, norm='l1')\n",
    "    scaler = StandardScaler(with_mean=False)\n",
    "    labels = np.array(labels)\n",
    "    predictions = []\n",
    "    X = scaler.fit_transform(vectorizer.fit_transform(texts).toarray())\n",
    "    loo = LeaveOneOut()\n",
    "\n",
    "    for train, test in loo.split(X):\n",
    "        train_X, test_X = X[train, :], X[test, :]\n",
    "        train_y, test_y = labels[train], labels[test]\n",
    "\n",
    "        clf.fit(train_X, train_y)\n",
    "        predictions.append(clf.predict(test_X)[0])\n",
    "    \n",
    "    acc = accuracy_score(labels, predictions)\n",
    "    \n",
    "    accuracies[i, j] = acc\n",
    "    \n",
    "    print(f'V={feat}, S={segm}, A={acc}')\n",
    "    "
   ]
  },
  {
   "cell_type": "markdown",
   "metadata": {},
   "source": [
    "Let us visualize these results as a heatmap:"
   ]
  },
  {
   "cell_type": "code",
   "execution_count": 42,
   "metadata": {},
   "outputs": [
    {
     "data": {
      "image/png": "[encoded data removed]",
      "text/plain": [
       "<matplotlib.figure.Figure at 0x1169a0940>"
      ]
     },
     "metadata": {},
     "output_type": "display_data"
    }
   ],
   "source": [
    "plt.figure(figsize=(12, 12))\n",
    "plt.imshow(accuracies, interpolation='nearest', cmap=plt.cm.Reds)\n",
    "plt.tick_params(labelsize=8)\n",
    "plt.title('Effect grootte segmenten en vocabularium')\n",
    "plt.colorbar()\n",
    "tick_marks = np.arange(len(values))\n",
    "plt.xticks(tick_marks, values, rotation=90)\n",
    "plt.yticks(tick_marks, values)\n",
    "\n",
    "plt.tight_layout()\n",
    "plt.ylabel('Grootte vocabularium')\n",
    "plt.xlabel('Grootte segmenten')\n",
    "plt.tight_layout()\n",
    "plt.savefig('../figures/fig4.pdf')"
   ]
  },
  {
   "cell_type": "markdown",
   "metadata": {},
   "source": [
    "These results confirm what we could expect: the best results are obtained with larger vocabularies and larger text blocks."
   ]
  },
  {
   "cell_type": "markdown",
   "metadata": {},
   "source": [
    "## Feature analysis"
   ]
  },
  {
   "cell_type": "markdown",
   "metadata": {},
   "source": [
    "### Mann-Whitney"
   ]
  },
  {
   "cell_type": "code",
   "execution_count": 19,
   "metadata": {},
   "outputs": [
    {
     "name": "stdout",
     "output_type": "stream",
     "text": [
      "(103, 50)\n"
     ]
    }
   ],
   "source": [
    "texts, labels = segment(scribes, segment_length=400)\n",
    "X = vectorizer.fit_transform(texts).toarray()\n",
    "X = scaler.fit_transform(X)\n",
    "print(X.shape)\n",
    "feature_names = [f.replace(' ', '_') for f in vectorizer.get_feature_names()]"
   ]
  },
  {
   "cell_type": "code",
   "execution_count": 20,
   "metadata": {},
   "outputs": [
    {
     "data": {
      "text/html": [
       "<div>\n",
       "<style scoped>\n",
       "    .dataframe tbody tr th:only-of-type {\n",
       "        vertical-align: middle;\n",
       "    }\n",
       "\n",
       "    .dataframe tbody tr th {\n",
       "        vertical-align: top;\n",
       "    }\n",
       "\n",
       "    .dataframe thead th {\n",
       "        text-align: right;\n",
       "    }\n",
       "</style>\n",
       "<table border=\"1\" class=\"dataframe\">\n",
       "  <thead>\n",
       "    <tr style=\"text-align: right;\">\n",
       "      <th></th>\n",
       "      <th>_als</th>\n",
       "      <th>_dae</th>\n",
       "      <th>_dat</th>\n",
       "      <th>_die</th>\n",
       "      <th>_doe</th>\n",
       "      <th>_end</th>\n",
       "      <th>_hem</th>\n",
       "      <th>_her</th>\n",
       "      <th>_hi_</th>\n",
       "      <th>_ic_</th>\n",
       "      <th>...</th>\n",
       "      <th>nder</th>\n",
       "      <th>nen_</th>\n",
       "      <th>oet_</th>\n",
       "      <th>onde</th>\n",
       "      <th>ren_</th>\n",
       "      <th>ten_</th>\n",
       "      <th>ter_</th>\n",
       "      <th>van_</th>\n",
       "      <th>was_</th>\n",
       "      <th>scribes</th>\n",
       "    </tr>\n",
       "  </thead>\n",
       "  <tbody>\n",
       "    <tr>\n",
       "      <th>0</th>\n",
       "      <td>2.142220</td>\n",
       "      <td>2.824513</td>\n",
       "      <td>5.952152</td>\n",
       "      <td>6.355130</td>\n",
       "      <td>6.722328</td>\n",
       "      <td>7.875576</td>\n",
       "      <td>2.424908</td>\n",
       "      <td>1.237546</td>\n",
       "      <td>2.558170</td>\n",
       "      <td>2.944909</td>\n",
       "      <td>...</td>\n",
       "      <td>4.633060</td>\n",
       "      <td>4.091316</td>\n",
       "      <td>3.859484</td>\n",
       "      <td>4.701036</td>\n",
       "      <td>4.092974</td>\n",
       "      <td>2.966832</td>\n",
       "      <td>4.718584</td>\n",
       "      <td>3.059392</td>\n",
       "      <td>4.370765</td>\n",
       "      <td>A</td>\n",
       "    </tr>\n",
       "    <tr>\n",
       "      <th>1</th>\n",
       "      <td>3.882905</td>\n",
       "      <td>3.036044</td>\n",
       "      <td>5.149124</td>\n",
       "      <td>6.186164</td>\n",
       "      <td>7.151849</td>\n",
       "      <td>8.654197</td>\n",
       "      <td>4.395294</td>\n",
       "      <td>2.492365</td>\n",
       "      <td>4.153836</td>\n",
       "      <td>2.949852</td>\n",
       "      <td>...</td>\n",
       "      <td>4.509879</td>\n",
       "      <td>3.575456</td>\n",
       "      <td>1.907878</td>\n",
       "      <td>3.744039</td>\n",
       "      <td>2.760471</td>\n",
       "      <td>4.033174</td>\n",
       "      <td>4.000467</td>\n",
       "      <td>2.239463</td>\n",
       "      <td>2.122039</td>\n",
       "      <td>A</td>\n",
       "    </tr>\n",
       "    <tr>\n",
       "      <th>2</th>\n",
       "      <td>1.064928</td>\n",
       "      <td>2.282125</td>\n",
       "      <td>6.520537</td>\n",
       "      <td>5.967425</td>\n",
       "      <td>6.174999</td>\n",
       "      <td>9.890964</td>\n",
       "      <td>5.625461</td>\n",
       "      <td>1.678514</td>\n",
       "      <td>4.553990</td>\n",
       "      <td>2.255862</td>\n",
       "      <td>...</td>\n",
       "      <td>4.350413</td>\n",
       "      <td>4.664944</td>\n",
       "      <td>1.482558</td>\n",
       "      <td>2.675298</td>\n",
       "      <td>2.145084</td>\n",
       "      <td>4.178754</td>\n",
       "      <td>5.288277</td>\n",
       "      <td>2.320297</td>\n",
       "      <td>3.371241</td>\n",
       "      <td>A</td>\n",
       "    </tr>\n",
       "    <tr>\n",
       "      <th>3</th>\n",
       "      <td>3.632992</td>\n",
       "      <td>2.382470</td>\n",
       "      <td>5.200073</td>\n",
       "      <td>6.348138</td>\n",
       "      <td>6.931380</td>\n",
       "      <td>8.331465</td>\n",
       "      <td>3.979745</td>\n",
       "      <td>1.790337</td>\n",
       "      <td>3.618251</td>\n",
       "      <td>1.945986</td>\n",
       "      <td>...</td>\n",
       "      <td>4.308793</td>\n",
       "      <td>6.794580</td>\n",
       "      <td>3.263054</td>\n",
       "      <td>3.842070</td>\n",
       "      <td>2.213086</td>\n",
       "      <td>3.010019</td>\n",
       "      <td>4.671448</td>\n",
       "      <td>3.392432</td>\n",
       "      <td>3.774508</td>\n",
       "      <td>A</td>\n",
       "    </tr>\n",
       "    <tr>\n",
       "      <th>4</th>\n",
       "      <td>3.523009</td>\n",
       "      <td>2.132626</td>\n",
       "      <td>6.994642</td>\n",
       "      <td>6.863539</td>\n",
       "      <td>5.403593</td>\n",
       "      <td>8.789506</td>\n",
       "      <td>4.116549</td>\n",
       "      <td>3.720293</td>\n",
       "      <td>3.028068</td>\n",
       "      <td>2.166641</td>\n",
       "      <td>...</td>\n",
       "      <td>5.880642</td>\n",
       "      <td>2.767332</td>\n",
       "      <td>2.214989</td>\n",
       "      <td>4.368129</td>\n",
       "      <td>4.463863</td>\n",
       "      <td>4.986446</td>\n",
       "      <td>3.157292</td>\n",
       "      <td>2.759130</td>\n",
       "      <td>2.534013</td>\n",
       "      <td>A</td>\n",
       "    </tr>\n",
       "  </tbody>\n",
       "</table>\n",
       "<p>5 rows × 51 columns</p>\n",
       "</div>"
      ],
      "text/plain": [
       "       _als      _dae      _dat      _die      _doe      _end      _hem  \\\n",
       "0  2.142220  2.824513  5.952152  6.355130  6.722328  7.875576  2.424908   \n",
       "1  3.882905  3.036044  5.149124  6.186164  7.151849  8.654197  4.395294   \n",
       "2  1.064928  2.282125  6.520537  5.967425  6.174999  9.890964  5.625461   \n",
       "3  3.632992  2.382470  5.200073  6.348138  6.931380  8.331465  3.979745   \n",
       "4  3.523009  2.132626  6.994642  6.863539  5.403593  8.789506  4.116549   \n",
       "\n",
       "       _her      _hi_      _ic_   ...         nder      nen_      oet_  \\\n",
       "0  1.237546  2.558170  2.944909   ...     4.633060  4.091316  3.859484   \n",
       "1  2.492365  4.153836  2.949852   ...     4.509879  3.575456  1.907878   \n",
       "2  1.678514  4.553990  2.255862   ...     4.350413  4.664944  1.482558   \n",
       "3  1.790337  3.618251  1.945986   ...     4.308793  6.794580  3.263054   \n",
       "4  3.720293  3.028068  2.166641   ...     5.880642  2.767332  2.214989   \n",
       "\n",
       "       onde      ren_      ten_      ter_      van_      was_  scribes  \n",
       "0  4.701036  4.092974  2.966832  4.718584  3.059392  4.370765        A  \n",
       "1  3.744039  2.760471  4.033174  4.000467  2.239463  2.122039        A  \n",
       "2  2.675298  2.145084  4.178754  5.288277  2.320297  3.371241        A  \n",
       "3  3.842070  2.213086  3.010019  4.671448  3.392432  3.774508        A  \n",
       "4  4.368129  4.463863  4.986446  3.157292  2.759130  2.534013        A  \n",
       "\n",
       "[5 rows x 51 columns]"
      ]
     },
     "execution_count": 20,
     "metadata": {},
     "output_type": "execute_result"
    }
   ],
   "source": [
    "import pandas as pd\n",
    "df = pd.DataFrame(X, columns=feature_names)\n",
    "df['scribes'] = labels\n",
    "df.head()"
   ]
  },
  {
   "cell_type": "code",
   "execution_count": 21,
   "metadata": {},
   "outputs": [
    {
     "name": "stdout",
     "output_type": "stream",
     "text": [
      "-> Comparing scribe A to rest\n",
      "-> Comparing scribe B to rest\n",
      "-> Comparing scribe C to rest\n",
      "-> Comparing scribe D to rest\n",
      "-> Comparing scribe E to rest\n"
     ]
    },
    {
     "data": {
      "text/plain": [
       "<matplotlib.figure.Figure at 0x1a13b00ac8>"
      ]
     },
     "metadata": {},
     "output_type": "display_data"
    },
    {
     "data": {
      "image/png": "[encoded data removed]",
      "text/plain": [
       "<matplotlib.figure.Figure at 0x1a1d6db550>"
      ]
     },
     "metadata": {},
     "output_type": "display_data"
    },
    {
     "data": {
      "text/plain": [
       "<matplotlib.figure.Figure at 0x1a1d6db588>"
      ]
     },
     "metadata": {},
     "output_type": "display_data"
    },
    {
     "data": {
      "image/png": "[encoded data removed]",
      "text/plain": [
       "<matplotlib.figure.Figure at 0x1a1d7a4160>"
      ]
     },
     "metadata": {},
     "output_type": "display_data"
    },
    {
     "data": {
      "text/plain": [
       "<matplotlib.figure.Figure at 0x1a13d73fd0>"
      ]
     },
     "metadata": {},
     "output_type": "display_data"
    },
    {
     "data": {
      "image/png": "[encoded data removed]",
      "text/plain": [
       "<matplotlib.figure.Figure at 0x1a13837278>"
      ]
     },
     "metadata": {},
     "output_type": "display_data"
    },
    {
     "data": {
      "text/plain": [
       "<matplotlib.figure.Figure at 0x1a13a8c550>"
      ]
     },
     "metadata": {},
     "output_type": "display_data"
    },
    {
     "data": {
      "image/png": "[encoded data removed]",
      "text/plain": [
       "<matplotlib.figure.Figure at 0x1a13a5b4a8>"
      ]
     },
     "metadata": {},
     "output_type": "display_data"
    },
    {
     "data": {
      "text/plain": [
       "<matplotlib.figure.Figure at 0x1a1d6caba8>"
      ]
     },
     "metadata": {},
     "output_type": "display_data"
    },
    {
     "data": {
      "image/png": "[encoded data removed]",
      "text/plain": [
       "<matplotlib.figure.Figure at 0x1a1d7ab0b8>"
      ]
     },
     "metadata": {},
     "output_type": "display_data"
    }
   ],
   "source": [
    "from scipy.stats import mannwhitneyu\n",
    "width = .4\n",
    "m = 15\n",
    "\n",
    "for scribe in sorted(set(labels)):\n",
    "    print('-> Comparing scribe', scribe, 'to rest')\n",
    "    A = df[df['scribes'] == scribe]\n",
    "    B = df[df['scribes'] != scribe]\n",
    "\n",
    "    results = []\n",
    "    for word in feature_names:\n",
    "        stat, pval = mannwhitneyu(A[word], B[word])\n",
    "        results.append((stat, word, pval))\n",
    "\n",
    "    results = sorted(results)\n",
    "\n",
    "    T = []\n",
    "    for _, word, _ in results[:m]:\n",
    "        x = df[word].tolist()\n",
    "        y = [sc if sc == scribe else 'X' for sc in df['scribes']]\n",
    "        z = [word] * len(x)\n",
    "        for entry in zip(x, y, z):\n",
    "            T.append(entry)\n",
    "    plt.figure(figsize=(15, 5))\n",
    "    wdf = pd.DataFrame(T, columns=('freq', 'scribe', 'tetragram'))\n",
    "    ax = sb.violinplot(x='tetragram', y='freq', hue='scribe',\n",
    "                        data=wdf, palette=\"muted\", split=True,\n",
    "\n",
    "                        hue_order=[scribe, 'X'])\n",
    "    plt.savefig(f'../figures/fig6{scribe.lower()}.pdf')\n",
    "    plt.clf()\n",
    "    \n",
    "    # plot\n",
    "    fig = plt.figure(figsize=(3, 10))\n",
    "    t_scores, t_labels, _ = zip(*results[:m])\n",
    "    pos = np.arange(m) - (width / 2)\n",
    "    \n",
    "    ax1 = fig.add_subplot(111)\n",
    "    plt.barh(pos, t_scores, width, label=scribe)\n",
    "    \n",
    "    plt.yticks(pos, t_labels[::-1])\n",
    "    ax1.set_ylabel(f'{m} meest onderscheidende lettergroepen scribent {scribe}')\n",
    "    plt.xlabel('Mann Whitney U')\n",
    "    plt.tight_layout()\n",
    "    plt.savefig(f'../figures/fig5{scribe.lower()}.pdf')\n",
    "    "
   ]
  },
  {
   "cell_type": "markdown",
   "metadata": {},
   "source": [
    "## External fragments"
   ]
  },
  {
   "cell_type": "code",
   "execution_count": 67,
   "metadata": {},
   "outputs": [],
   "source": [
    "vectorizer = TfidfVectorizer(max_features=2000, analyzer='char_wb',\n",
    "                             ngram_range=(4, 4),\n",
    "                             use_idf=False, norm='l1')\n",
    "scaler = StandardScaler(with_mean=False)\n",
    "clf = KNeighborsClassifier(metric='cosine', n_neighbors=1,\n",
    "                           algorithm='brute', weights='uniform')"
   ]
  },
  {
   "cell_type": "code",
   "execution_count": 68,
   "metadata": {},
   "outputs": [],
   "source": [
    "def preprocess_file(fn, target_scribes):\n",
    "\n",
    "    with open(fn, 'r') as f:\n",
    "        xml_text = f.read()\n",
    "\n",
    "    root = etree.fromstring(xml_text)\n",
    "\n",
    "    scribes, current_scribe = {}, None\n",
    "\n",
    "    for line in root.findall('.//l'):\n",
    "        for child in list(line):\n",
    "            if child.tag == 'scribe':\n",
    "                current_scribe = child.get('id')\n",
    "                if current_scribe not in scribes and \\\n",
    "                  current_scribe in target_scribes:\n",
    "                    scribes[current_scribe] = []\n",
    "\n",
    "        if current_scribe and current_scribe in target_scribes:\n",
    "\n",
    "            # ignore lines with a damage tag:\n",
    "            damaged = False\n",
    "            for child in line:\n",
    "                if child.tag == 'damage':\n",
    "                    print(' '.join([t.strip() for t in line.itertext()]))\n",
    "                    damaged = True\n",
    "                    break\n",
    "\n",
    "            if not damaged:\n",
    "                line_text = ' '.join([t.strip() for t in line.itertext()])\n",
    "                line_text = ''.join([c for c in line_text if c.isalpha() or c.isspace()])\n",
    "\n",
    "                scribes[current_scribe].append(line_text.strip().lower())\n",
    "\n",
    "    return scribes"
   ]
  },
  {
   "cell_type": "code",
   "execution_count": 69,
   "metadata": {},
   "outputs": [],
   "source": [
    "import glob\n",
    "\n",
    "def preprocess_dir(dir_, target_scribes):\n",
    "\n",
    "    scribes = {}\n",
    "\n",
    "    for fn in sorted(glob.glob(dir_ + '*.xml')):\n",
    "\n",
    "        print(fn)\n",
    "\n",
    "        tmp_scribes = preprocess_file(fn, target_scribes=target_scribes)\n",
    "\n",
    "        if tmp_scribes:\n",
    "            for scribe in tmp_scribes:\n",
    "                if scribe not in scribes:\n",
    "                    scribes[scribe] = []\n",
    "                scribes[scribe].extend(tmp_scribes[scribe])\n",
    "\n",
    "    return scribes"
   ]
  },
  {
   "cell_type": "code",
   "execution_count": 70,
   "metadata": {},
   "outputs": [
    {
     "name": "stdout",
     "output_type": "stream",
     "text": [
      "A -> 17475 lines\n",
      "B -> 7085 lines\n",
      "C -> 7080 lines\n",
      "D -> 6639 lines\n",
      "E -> 4264 lines\n"
     ]
    }
   ],
   "source": [
    "train_scribes = preprocess_file(fn='../data/compilation/01Lanc.xml',\n",
    "                                target_scribes=['A', 'B', 'C', 'D', 'E'])\n",
    "\n",
    "train_scribes['B'].extend(preprocess_file(fn='../data/compilation/02Perc.xml',\n",
    "                          target_scribes=['B'])['B'])\n",
    "\n",
    "for scribe, lines in train_scribes.items():\n",
    "    train_scribes[scribe] = tuple(lines)\n",
    "\n",
    "for scribe, lines in train_scribes.items():\n",
    "    print(f'{scribe} -> {len(lines)} lines')\n",
    "\n",
    "    \n",
    "train_texts, train_labels = segment(train_scribes,\n",
    "                                    segment_length=500)"
   ]
  },
  {
   "cell_type": "markdown",
   "metadata": {},
   "source": [
    "(Only for visualization purposes:)"
   ]
  },
  {
   "cell_type": "code",
   "execution_count": 71,
   "metadata": {},
   "outputs": [
    {
     "name": "stdout",
     "output_type": "stream",
     "text": [
      "../data/external/BrRose.xml\n",
      "../data/external/Caesar.xml\n",
      "../data/external/CassK1350.xml\n",
      "../data/external/Frene.xml\n",
      "../data/external/H52.xml\n",
      "../data/external/Lanc_Br.xml\n",
      "../data/external/Oring.xml\n",
      "A -> 10890 lines\n",
      "C -> 564 lines\n",
      "D -> 481 lines\n",
      "B -> 396 lines\n"
     ]
    },
    {
     "data": {
      "image/png": "[encoded data removed]",
      "text/plain": [
       "<matplotlib.figure.Figure at 0x1a13a937f0>"
      ]
     },
     "metadata": {},
     "output_type": "display_data"
    }
   ],
   "source": [
    "test_scribes = preprocess_dir('../data/external/',\n",
    "                              target_scribes=['A', 'B', 'C', 'D'])\n",
    "for scribe, lines in test_scribes.items():\n",
    "    print(f'{scribe} -> {len(lines)} lines')\n",
    "\n",
    "df = pd.DataFrame()\n",
    "df['kopiist'] = sorted(test_scribes.keys())\n",
    "df['versaantal'] = [len(test_scribes[s]) for s in sorted(test_scribes.keys())]\n",
    "df.plot(kind='bar', x='kopiist', y='versaantal')\n",
    "plt.title('Versaantallen buiten Lancelotcompilatie')\n",
    "plt.savefig('../figures/fig1b.pdf')"
   ]
  },
  {
   "cell_type": "code",
   "execution_count": 72,
   "metadata": {},
   "outputs": [
    {
     "name": "stdout",
     "output_type": "stream",
     "text": [
      "../data/external/BrRose.xml\n",
      "../data/external/Caesar.xml\n",
      "../data/external/CassK1350.xml\n",
      "../data/external/Frene.xml\n",
      "../data/external/H52.xml\n",
      "../data/external/Lanc_Br.xml\n",
      "../data/external/Oring.xml\n"
     ]
    }
   ],
   "source": [
    "A = preprocess_dir('../data/external/', target_scribes=['A'])\n",
    "a_texts, a_labels = segment(A, segment_length=600) "
   ]
  },
  {
   "cell_type": "code",
   "execution_count": 73,
   "metadata": {},
   "outputs": [
    {
     "name": "stdout",
     "output_type": "stream",
     "text": [
      "../data/external/BrRose.xml\n",
      "../data/external/Caesar.xml\n",
      "../data/external/CassK1350.xml\n",
      "../data/external/Frene.xml\n",
      "../data/external/H52.xml\n",
      "../data/external/Lanc_Br.xml\n",
      "../data/external/Oring.xml\n"
     ]
    }
   ],
   "source": [
    "rest_scribes = preprocess_dir('../data/external/',\n",
    "                              target_scribes=['B', 'C', 'D'])\n",
    "\n",
    "test_texts, test_labels = segment(rest_scribes,\n",
    "                                  segment_length=None)\n",
    "\n",
    "test_texts = a_texts + test_texts\n",
    "test_labels = a_labels + test_labels"
   ]
  },
  {
   "cell_type": "code",
   "execution_count": 78,
   "metadata": {},
   "outputs": [],
   "source": [
    "train_X = vectorizer.fit_transform(train_texts).toarray()\n",
    "train_X = scaler.fit_transform(train_X)\n",
    "\n",
    "test_X = vectorizer.transform(test_texts).toarray()\n",
    "test_X = scaler.transform(test_X)\n",
    "\n",
    "clf.fit(train_X, train_labels)\n",
    "silver = clf.predict(test_X)"
   ]
  },
  {
   "cell_type": "code",
   "execution_count": 79,
   "metadata": {},
   "outputs": [
    {
     "name": "stdout",
     "output_type": "stream",
     "text": [
      "['A' 'A' 'A' 'A' 'A' 'A' 'A' 'A' 'A' 'A' 'A' 'A' 'A' 'A' 'A' 'A' 'A' 'A'\n",
      " 'B' 'C' 'B']\n"
     ]
    }
   ],
   "source": [
    "print(silver)"
   ]
  },
  {
   "cell_type": "code",
   "execution_count": 80,
   "metadata": {},
   "outputs": [
    {
     "name": "stderr",
     "output_type": "stream",
     "text": [
      "//anaconda/envs/clean36/lib/python3.6/site-packages/ipykernel/__main__.py:10: RuntimeWarning: invalid value encountered in true_divide\n"
     ]
    },
    {
     "data": {
      "image/png": "[encoded data removed]",
      "text/plain": [
       "<matplotlib.figure.Figure at 0x1a13819710>"
      ]
     },
     "metadata": {},
     "output_type": "display_data"
    },
    {
     "name": "stdout",
     "output_type": "stream",
     "text": [
      "Test acc: 0.952380952381\n"
     ]
    }
   ],
   "source": [
    "from sklearn.metrics import accuracy_score\n",
    "plot_confusion_matrix(list(silver), list(test_labels), title='../figures/fig7.pdf')\n",
    "acc = accuracy_score(silver, test_labels)\n",
    "print('Test acc:', acc)"
   ]
  },
  {
   "cell_type": "code",
   "execution_count": null,
   "metadata": {},
   "outputs": [],
   "source": []
  }
 ],
 "metadata": {
  "kernelspec": {
   "display_name": "Python [conda env:clean36]",
   "language": "python",
   "name": "conda-env-clean36-py"
  },
  "language_info": {
   "codemirror_mode": {
    "name": "ipython",
    "version": 3
   },
   "file_extension": ".py",
   "mimetype": "text/x-python",
   "name": "python",
   "nbconvert_exporter": "python",
   "pygments_lexer": "ipython3",
   "version": "3.6.3"
  }
 },
 "nbformat": 4,
 "nbformat_minor": 2
}
